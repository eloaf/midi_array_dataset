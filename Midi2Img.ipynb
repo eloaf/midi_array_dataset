{
 "cells": [
  {
   "cell_type": "markdown",
   "metadata": {},
   "source": [
    "# Parse It to array"
   ]
  },
  {
   "cell_type": "code",
   "execution_count": null,
   "metadata": {
    "collapsed": true
   },
   "outputs": [],
   "source": []
  },
  {
   "cell_type": "code",
   "execution_count": 7,
   "metadata": {
    "collapsed": true
   },
   "outputs": [],
   "source": [
    "import numpy as np"
   ]
  },
  {
   "cell_type": "code",
   "execution_count": 19,
   "metadata": {},
   "outputs": [
    {
     "ename": "OSError",
     "evalue": "MThd not found. Probably not a MIDI file",
     "output_type": "error",
     "traceback": [
      "\u001b[0;31m---------------------------------------------------------------------------\u001b[0m",
      "\u001b[0;31mOSError\u001b[0m                                   Traceback (most recent call last)",
      "\u001b[0;32m<ipython-input-19-c1259c70a129>\u001b[0m in \u001b[0;36m<module>\u001b[0;34m()\u001b[0m\n\u001b[1;32m      4\u001b[0m \u001b[0;31m# mid = MidiFile('../data/bachcentral_midi/gold_aria.mid') # all files in that folder seems broken... only note ons\u001b[0m\u001b[0;34m\u001b[0m\u001b[0;34m\u001b[0m\u001b[0m\n\u001b[1;32m      5\u001b[0m \u001b[0;31m# mid = MidiFile('../data/bach-chorales-4501-5000/bach-4501')\u001b[0m\u001b[0;34m\u001b[0m\u001b[0;34m\u001b[0m\u001b[0m\n\u001b[0;32m----> 6\u001b[0;31m \u001b[0mmid\u001b[0m \u001b[0;34m=\u001b[0m \u001b[0mMidiFile\u001b[0m\u001b[0;34m(\u001b[0m\u001b[0;34m'../data/kunstderfuge_com_beethoven_sonatas_htm/_-_midi.aspfilebeethoven_hisamori_sonate_01_(c)hisamori.mid'\u001b[0m\u001b[0;34m)\u001b[0m\u001b[0;34m\u001b[0m\u001b[0m\n\u001b[0m",
      "\u001b[0;32m/Users/elaufer/anaconda3/envs/laufer/lib/python3.6/site-packages/mido/midifiles/midifiles.py\u001b[0m in \u001b[0;36m__init__\u001b[0;34m(self, filename, file, type, ticks_per_beat, charset, debug)\u001b[0m\n\u001b[1;32m    300\u001b[0m         \u001b[0;32melif\u001b[0m \u001b[0mself\u001b[0m\u001b[0;34m.\u001b[0m\u001b[0mfilename\u001b[0m \u001b[0;32mis\u001b[0m \u001b[0;32mnot\u001b[0m \u001b[0;32mNone\u001b[0m\u001b[0;34m:\u001b[0m\u001b[0;34m\u001b[0m\u001b[0m\n\u001b[1;32m    301\u001b[0m             \u001b[0;32mwith\u001b[0m \u001b[0mio\u001b[0m\u001b[0;34m.\u001b[0m\u001b[0mopen\u001b[0m\u001b[0;34m(\u001b[0m\u001b[0mfilename\u001b[0m\u001b[0;34m,\u001b[0m \u001b[0;34m'rb'\u001b[0m\u001b[0;34m)\u001b[0m \u001b[0;32mas\u001b[0m \u001b[0mfile\u001b[0m\u001b[0;34m:\u001b[0m\u001b[0;34m\u001b[0m\u001b[0m\n\u001b[0;32m--> 302\u001b[0;31m                 \u001b[0mself\u001b[0m\u001b[0;34m.\u001b[0m\u001b[0m_load\u001b[0m\u001b[0;34m(\u001b[0m\u001b[0mfile\u001b[0m\u001b[0;34m)\u001b[0m\u001b[0;34m\u001b[0m\u001b[0m\n\u001b[0m\u001b[1;32m    303\u001b[0m \u001b[0;34m\u001b[0m\u001b[0m\n\u001b[1;32m    304\u001b[0m     \u001b[0;32mdef\u001b[0m \u001b[0madd_track\u001b[0m\u001b[0;34m(\u001b[0m\u001b[0mself\u001b[0m\u001b[0;34m,\u001b[0m \u001b[0mname\u001b[0m\u001b[0;34m=\u001b[0m\u001b[0;32mNone\u001b[0m\u001b[0;34m)\u001b[0m\u001b[0;34m:\u001b[0m\u001b[0;34m\u001b[0m\u001b[0m\n",
      "\u001b[0;32m/Users/elaufer/anaconda3/envs/laufer/lib/python3.6/site-packages/mido/midifiles/midifiles.py\u001b[0m in \u001b[0;36m_load\u001b[0;34m(self, infile)\u001b[0m\n\u001b[1;32m    324\u001b[0m             (self.type,\n\u001b[1;32m    325\u001b[0m              \u001b[0mnum_tracks\u001b[0m\u001b[0;34m,\u001b[0m\u001b[0;34m\u001b[0m\u001b[0m\n\u001b[0;32m--> 326\u001b[0;31m              self.ticks_per_beat) = read_file_header(infile)\n\u001b[0m\u001b[1;32m    327\u001b[0m \u001b[0;34m\u001b[0m\u001b[0m\n\u001b[1;32m    328\u001b[0m             \u001b[0;32mif\u001b[0m \u001b[0mself\u001b[0m\u001b[0;34m.\u001b[0m\u001b[0mdebug\u001b[0m\u001b[0;34m:\u001b[0m\u001b[0;34m\u001b[0m\u001b[0m\n",
      "\u001b[0;32m/Users/elaufer/anaconda3/envs/laufer/lib/python3.6/site-packages/mido/midifiles/midifiles.py\u001b[0m in \u001b[0;36mread_file_header\u001b[0;34m(infile)\u001b[0m\n\u001b[1;32m    108\u001b[0m \u001b[0;34m\u001b[0m\u001b[0m\n\u001b[1;32m    109\u001b[0m     \u001b[0;32mif\u001b[0m \u001b[0mname\u001b[0m \u001b[0;34m!=\u001b[0m \u001b[0;34mb'MThd'\u001b[0m\u001b[0;34m:\u001b[0m\u001b[0;34m\u001b[0m\u001b[0m\n\u001b[0;32m--> 110\u001b[0;31m         \u001b[0;32mraise\u001b[0m \u001b[0mIOError\u001b[0m\u001b[0;34m(\u001b[0m\u001b[0;34m'MThd not found. Probably not a MIDI file'\u001b[0m\u001b[0;34m)\u001b[0m\u001b[0;34m\u001b[0m\u001b[0m\n\u001b[0m\u001b[1;32m    111\u001b[0m     \u001b[0;32melse\u001b[0m\u001b[0;34m:\u001b[0m\u001b[0;34m\u001b[0m\u001b[0m\n\u001b[1;32m    112\u001b[0m         \u001b[0mdata\u001b[0m \u001b[0;34m=\u001b[0m \u001b[0minfile\u001b[0m\u001b[0;34m.\u001b[0m\u001b[0mread\u001b[0m\u001b[0;34m(\u001b[0m\u001b[0msize\u001b[0m\u001b[0;34m)\u001b[0m\u001b[0;34m\u001b[0m\u001b[0m\n",
      "\u001b[0;31mOSError\u001b[0m: MThd not found. Probably not a MIDI file"
     ]
    }
   ],
   "source": [
    "from mido import MidiFile\n",
    "# mid = MidiFile('../data/JSB Chorales/train/4.mid')\n",
    "# mid = MidiFile('../data/bach-chorales-1-500/bach-1')\n",
    "# mid = MidiFile('../data/bachcentral_midi/gold_aria.mid') # all files in that folder seems broken... only note ons\n",
    "# mid = MidiFile('../data/bach-chorales-4501-5000/bach-4501')\n",
    "# mid = MidiFile('../data/kunstderfuge_com_beethoven_sonatas_htm/') # not midi files?"
   ]
  },
  {
   "cell_type": "code",
   "execution_count": null,
   "metadata": {
    "collapsed": true
   },
   "outputs": [],
   "source": []
  },
  {
   "cell_type": "code",
   "execution_count": null,
   "metadata": {
    "collapsed": true
   },
   "outputs": [],
   "source": []
  },
  {
   "cell_type": "code",
   "execution_count": 9,
   "metadata": {
    "collapsed": true
   },
   "outputs": [],
   "source": [
    "def compute_note_positions(mid, verbose=False):\n",
    "    \"\"\"\n",
    "    Each message in a MIDI file has a delta time, which tells how many ticks have passed since the last message. \n",
    "    The length of a tick is defined in ticks per beat. \n",
    "    This value is stored as ticks_per_beat in MidiFile objects and remains fixed throughout the song.\n",
    "    \"\"\"    \n",
    "    notes = []\n",
    "\n",
    "    if verbose:\n",
    "        print(len(mid.tracks))\n",
    "\n",
    "    for i, track in enumerate(mid.tracks):\n",
    "        current_tick = 0\n",
    "        \n",
    "        if verbose:\n",
    "            print('Track {}: {}'.format(i, track.name))\n",
    "\n",
    "        for msg in track:\n",
    "            msg_data = msg.dict()\n",
    "            event_type, time, note = msg_data['type'], msg_data['time'], msg_data.get('note', -1)\n",
    "            current_tick += time\n",
    "            \n",
    "            if verbose:\n",
    "                print(\"Event: {:10} Time: {:4}   AbsTime: {:6}  Note: {:3}\".format(event_type, time, current_tick, note))\n",
    "\n",
    "            if event_type.startswith('note'):\n",
    "                notes.append((event_type, current_tick, note))\n",
    "                \n",
    "                \n",
    "    # do we need to sort the notes if there are different channels?\n",
    "    # notes = list(sorted(notes, key=lambda x: x[1]))\n",
    "    return notes"
   ]
  },
  {
   "cell_type": "code",
   "execution_count": 10,
   "metadata": {},
   "outputs": [],
   "source": [
    "def get_note_array(notes):\n",
    "    \"\"\"\n",
    "    Given a list of midi notes (tuple of (event, current tick, note no.)),\n",
    "    construct an array analogous to \"piano roll representation\"\n",
    "    \"\"\"\n",
    "    max_tick = max([x[1] for x in notes]) + 1\n",
    "    X = np.zeros((max_tick, 128))\n",
    "    X_noteon  = np.zeros((max_tick, 128))\n",
    "    X_noteoff = np.zeros((max_tick, 128))\n",
    "    \n",
    "    for event, tick, note in notes:\n",
    "        \n",
    "        if event == 'note_on':\n",
    "            X[tick:, note] = 1\n",
    "            X_noteon[tick, note] = 1\n",
    "\n",
    "        if event == 'note_off':\n",
    "            X[tick:, note] = 0\n",
    "            X_noteoff[tick, note] = 1\n",
    "            \n",
    "    return X, X_noteon, X_noteoff\n",
    "\n",
    "def note_array_to_midi(note_array):\n",
    "    \"\"\"\n",
    "    Given a piano roll representation, reconstruct a midi file.\n",
    "    \"\"\"\n",
    "    # TODO\n",
    "    return"
   ]
  },
  {
   "cell_type": "code",
   "execution_count": 11,
   "metadata": {
    "scrolled": false
   },
   "outputs": [],
   "source": [
    "notes = compute_note_positions(mid, verbose=0)\n",
    "all_ticks = np.array(list(sorted(set([x[1] for x in notes]))))\n",
    "minimum_increment = min(all_ticks[1 :] - all_ticks[: -1])\n",
    "X, X_noteon, X_noteoff = get_note_array(notes)"
   ]
  },
  {
   "cell_type": "code",
   "execution_count": 12,
   "metadata": {},
   "outputs": [
    {
     "data": {
      "text/plain": [
       "((65001, 128), 30)"
      ]
     },
     "execution_count": 12,
     "metadata": {},
     "output_type": "execute_result"
    }
   ],
   "source": [
    "X.shape, minimum_increment"
   ]
  },
  {
   "cell_type": "code",
   "execution_count": 13,
   "metadata": {
    "collapsed": true
   },
   "outputs": [],
   "source": [
    "def first_nonzero(x):\n",
    "    for i, e in enumerate(x):\n",
    "        if e!=0:\n",
    "            return i"
   ]
  },
  {
   "cell_type": "code",
   "execution_count": 14,
   "metadata": {},
   "outputs": [
    {
     "data": {
      "text/plain": [
       "3000"
      ]
     },
     "execution_count": 14,
     "metadata": {},
     "output_type": "execute_result"
    }
   ],
   "source": [
    "first_nonzero(X.max(axis=1))"
   ]
  },
  {
   "cell_type": "code",
   "execution_count": 15,
   "metadata": {
    "collapsed": true
   },
   "outputs": [],
   "source": [
    "import seaborn as sn\n",
    "import matplotlib.pyplot as plt\n",
    "%matplotlib inline"
   ]
  },
  {
   "cell_type": "code",
   "execution_count": 16,
   "metadata": {},
   "outputs": [
    {
     "data": {
      "text/plain": [
       "(65001, 128)"
      ]
     },
     "execution_count": 16,
     "metadata": {},
     "output_type": "execute_result"
    }
   ],
   "source": [
    "X.shape"
   ]
  },
  {
   "cell_type": "code",
   "execution_count": 17,
   "metadata": {
    "collapsed": true
   },
   "outputs": [],
   "source": [
    "lowest_note, highest_note = first_nonzero(X.max(axis=0)), 128-first_nonzero(X.max(axis=0)[::-1])"
   ]
  },
  {
   "cell_type": "code",
   "execution_count": 18,
   "metadata": {
    "scrolled": false
   },
   "outputs": [
    {
     "data": {
      "image/png": "[encoded data removed]",
      "text/plain": [
       "<matplotlib.figure.Figure at 0x12662d6d8>"
      ]
     },
     "metadata": {},
     "output_type": "display_data"
    }
   ],
   "source": [
    "plt.figure(figsize=(16, 7))\n",
    "sn.heatmap(X.T[lowest_note - 1: highest_note + 1, :: 30][::-1])\n",
    "plt.show()"
   ]
  },
  {
   "cell_type": "code",
   "execution_count": null,
   "metadata": {
    "collapsed": true
   },
   "outputs": [],
   "source": [
    "# plt.figure(figsize=(16, 7))\n",
    "# sn.heatmap(X_noteon.T[lowest_note - 1: highest_note + 1, :: ][::-1])\n",
    "# plt.show()"
   ]
  },
  {
   "cell_type": "code",
   "execution_count": null,
   "metadata": {
    "collapsed": true
   },
   "outputs": [],
   "source": []
  },
  {
   "cell_type": "markdown",
   "metadata": {},
   "source": [
    "Ideas:\n",
    "- Two channels:\n",
    "     - note on  channel (just a bit for note ons)\n",
    "     - note off channel (just a bit for note offs)"
   ]
  },
  {
   "cell_type": "code",
   "execution_count": null,
   "metadata": {
    "collapsed": true
   },
   "outputs": [],
   "source": []
  },
  {
   "cell_type": "code",
   "execution_count": null,
   "metadata": {
    "collapsed": true
   },
   "outputs": [],
   "source": []
  },
  {
   "cell_type": "markdown",
   "metadata": {},
   "source": [
    "Find patterns"
   ]
  },
  {
   "cell_type": "code",
   "execution_count": null,
   "metadata": {
    "collapsed": true
   },
   "outputs": [],
   "source": [
    "import tensorflow as tf"
   ]
  },
  {
   "cell_type": "code",
   "execution_count": null,
   "metadata": {
    "collapsed": true
   },
   "outputs": [],
   "source": [
    "session = tf.Session()"
   ]
  },
  {
   "cell_type": "code",
   "execution_count": null,
   "metadata": {
    "collapsed": true
   },
   "outputs": [],
   "source": [
    "x_in = tf.placeholder(dtype='float32', shape=[1, None, 128, 1]) # batch, height, width, channels"
   ]
  },
  {
   "cell_type": "code",
   "execution_count": null,
   "metadata": {
    "collapsed": true
   },
   "outputs": [],
   "source": [
    "# [filter_height, filter_width, in_channels, out_channels]\n",
    "_filter = tf.Variable(initial_value=tf.random_normal(shape=(600, 128, 1, 1), mean=0.5, stddev=0.1))\n",
    "_filter = tf.clip_by_value(_filter, 0, 1)"
   ]
  },
  {
   "cell_type": "code",
   "execution_count": null,
   "metadata": {
    "collapsed": true
   },
   "outputs": [],
   "source": [
    "conv_result = tf.nn.conv2d(x_in, _filter, strides=[1,1,1,1], padding=\"VALID\")"
   ]
  },
  {
   "cell_type": "code",
   "execution_count": null,
   "metadata": {
    "collapsed": true
   },
   "outputs": [],
   "source": [
    "opt = tf.train.AdamOptimizer().minimize(-conv_result)"
   ]
  },
  {
   "cell_type": "code",
   "execution_count": null,
   "metadata": {
    "collapsed": true
   },
   "outputs": [],
   "source": [
    "session.run(tf.global_variables_initializer())"
   ]
  },
  {
   "cell_type": "code",
   "execution_count": null,
   "metadata": {
    "collapsed": true
   },
   "outputs": [],
   "source": [
    "session.run(opt, feed_dict={x_in: X[None, :, :, None]})"
   ]
  },
  {
   "cell_type": "code",
   "execution_count": null,
   "metadata": {
    "collapsed": true
   },
   "outputs": [],
   "source": [
    "session.run()"
   ]
  },
  {
   "cell_type": "code",
   "execution_count": null,
   "metadata": {
    "collapsed": true
   },
   "outputs": [],
   "source": []
  },
  {
   "cell_type": "code",
   "execution_count": null,
   "metadata": {
    "collapsed": true
   },
   "outputs": [],
   "source": []
  },
  {
   "cell_type": "code",
   "execution_count": null,
   "metadata": {
    "collapsed": true
   },
   "outputs": [],
   "source": []
  },
  {
   "cell_type": "code",
   "execution_count": null,
   "metadata": {
    "collapsed": true
   },
   "outputs": [],
   "source": []
  },
  {
   "cell_type": "markdown",
   "metadata": {},
   "source": [
    "# This looks fishy, there are usually 4 voices in a chorale. Next loop processes all the midi\n",
    "\n",
    "except for the break..."
   ]
  },
  {
   "cell_type": "code",
   "execution_count": null,
   "metadata": {
    "collapsed": true
   },
   "outputs": [],
   "source": [
    "import os"
   ]
  },
  {
   "cell_type": "code",
   "execution_count": null,
   "metadata": {
    "collapsed": true,
    "scrolled": false
   },
   "outputs": [],
   "source": [
    "train_set = []\n",
    "\n",
    "path = 'JSB Chorales/train'\n",
    "for f in os.listdir(path):\n",
    "    mid = MidiFile(os.path.join(path, f))\n",
    "    X = get_note_array(compute_note_positions(mid))\n",
    "    plt.figure(figsize=(16, 7))\n",
    "    sn.heatmap(X.T[50: 100, ::120][::-1])\n",
    "    plt.show()\n",
    "    train_set.append(X)\n",
    "    \n",
    "    break # remove me"
   ]
  },
  {
   "cell_type": "code",
   "execution_count": null,
   "metadata": {
    "collapsed": true
   },
   "outputs": [],
   "source": []
  },
  {
   "cell_type": "code",
   "execution_count": null,
   "metadata": {
    "collapsed": true
   },
   "outputs": [],
   "source": []
  },
  {
   "cell_type": "markdown",
   "metadata": {},
   "source": [
    "# Get It\n",
    "\n",
    "This code downloads the chorales and saves them as midi in a folder \"JS Chorales\""
   ]
  },
  {
   "cell_type": "code",
   "execution_count": null,
   "metadata": {
    "collapsed": true
   },
   "outputs": [],
   "source": [
    "\"\"\"\n",
    "Example of iterating Bach Chorales and getting individual voice parts\n",
    "In this case, want specifically 4 voice pieces only\n",
    "Also transpose to key of C (major or minor depending on piece)\n",
    "Also shows how to write out all the xml as midi\n",
    "\"\"\"\n",
    "# Author: Kyle Kastner\n",
    "# License: BSD 3-Clause\n",
    "# Based on StackOverflow answer\n",
    "# http://stackoverflow.com/questions/36647054/music21-getting-all-notes-with-durations\n",
    "# midi writing modified from tests inside music21\n",
    "from music21 import corpus, interval, pitch\n",
    "import time\n",
    "import numpy as np\n",
    "import os\n",
    "\n",
    "\n",
    "def write_midi(pitch_block, duration_block, outfile=\"out.mid\",\n",
    "               qpm_multiplier=1024, tempo_multiplier=1.0):\n",
    "    # Assumes any element with\n",
    "    from music21.midi import MidiTrack, MidiFile, MidiEvent, DeltaTime\n",
    "    # duration, pitch, velocity\n",
    "\n",
    "    qpm_mult = qpm_multiplier\n",
    "    all_mt = []\n",
    "\n",
    "    for i in range(pitch_block.shape[0]):\n",
    "        mt = MidiTrack(1)\n",
    "        t = 0\n",
    "        t_last = 0\n",
    "        pitch_slice = pitch_block[i, :]\n",
    "        duration_slice = duration_block[i, :]\n",
    "        beat_slice = list((qpm_mult * duration_slice).astype(\"int32\"))\n",
    "        pitch_slice = list(pitch_slice.astype(\"int32\"))\n",
    "        for d, p in zip(beat_slice, pitch_slice):\n",
    "            if (p == -1) or (d == -1):\n",
    "                # bypass\n",
    "                continue\n",
    "            dt = DeltaTime(mt)\n",
    "            dt.time = t - t_last\n",
    "            mt.events.append(dt)\n",
    "\n",
    "            me = MidiEvent(mt)\n",
    "            me.type = \"NOTE_ON\"\n",
    "            me.channel = 1\n",
    "            me.time = None\n",
    "            me.pitch = p\n",
    "            me.velocity = 90\n",
    "            mt.events.append(me)\n",
    "\n",
    "            # add note off / velocity zero message\n",
    "            dt = DeltaTime(mt)\n",
    "            dt.time = d\n",
    "            # add to track events\n",
    "            mt.events.append(dt)\n",
    "\n",
    "            me = MidiEvent(mt)\n",
    "            me.type = \"NOTE_ON\"\n",
    "            me.channel = 1\n",
    "            me.time = None\n",
    "            me.pitch = p\n",
    "            me.velocity = 0\n",
    "            mt.events.append(me)\n",
    "            t_last = t + d\n",
    "            t += d\n",
    "\n",
    "        # add end of track\n",
    "        dt = DeltaTime(mt)\n",
    "        dt.time = 0\n",
    "        mt.events.append(dt)\n",
    "\n",
    "        me = MidiEvent(mt)\n",
    "        me.type = \"END_OF_TRACK\"\n",
    "        me.channel = 1\n",
    "        me.data = ''\n",
    "        mt.events.append(me)\n",
    "        all_mt.append(mt)\n",
    "\n",
    "    mf = MidiFile()\n",
    "    mf.ticksPerQuarterNote = int(tempo_multiplier * qpm_mult)\n",
    "    for mt in all_mt:\n",
    "        mf.tracks.append(mt)\n",
    "\n",
    "    mf.open(outfile, 'wb')\n",
    "    mf.write()\n",
    "    mf.close()\n",
    "\n",
    "\n",
    "start = time.time()\n",
    "all_bach_paths = corpus.getComposer('bach')\n",
    "print(\"Total number of Bach pieces to process from music21: %i\" % len(all_bach_paths))\n",
    "skipped = 0\n",
    "processed = 0\n",
    "n_major = 0\n",
    "n_minor = 0\n",
    "all_major = []\n",
    "all_minor = []\n",
    "for it, p_bach in enumerate(all_bach_paths):\n",
    "    if \"riemenschneider\" in str(p_bach):\n",
    "        # skip certain files we don't care about\n",
    "        skipped += 1\n",
    "        continue\n",
    "    p = corpus.parse(p_bach)\n",
    "    if len(p.parts) != 4:\n",
    "        print(\"Skipping file %i, %s due to undesired voice count...\" % (it, p_bach))\n",
    "        skipped += 1\n",
    "        continue\n",
    "    print(\"Processing %i, %s ...\" % (it, p_bach))\n",
    "\n",
    "    k = p.analyze('key')\n",
    "    print(\"Original key: %s\" % k)\n",
    "    i = interval.Interval(k.tonic, pitch.Pitch('C'))\n",
    "    p = p.transpose(i)\n",
    "    k = p.analyze('key')\n",
    "    print(\"Transposed key: %s\" % k)\n",
    "    if 'major' in k.name:\n",
    "        n_major += 1\n",
    "    elif 'minor' in k.name:\n",
    "        n_minor += 1\n",
    "    else:\n",
    "        raise ValueError('Unknown key %s' % k.name)\n",
    "\n",
    "    try:\n",
    "        parts = []\n",
    "        parts_times = []\n",
    "        for i, pi in enumerate(p.parts):\n",
    "            part = []\n",
    "            part_time = []\n",
    "            for n in pi.stream().flat.notesAndRests:\n",
    "                if n.isRest:\n",
    "                    part.append(0)\n",
    "                else:\n",
    "                    part.append(n.midi)\n",
    "                part_time.append(n.duration.quarterLength)\n",
    "            parts.append(part)\n",
    "            parts_times.append(part_time)\n",
    "\n",
    "        # Create a \"block\" of events and times\n",
    "        cumulative_times = map(lambda x: list(np.cumsum(x)), parts_times)\n",
    "        event_points = sorted(list(set(sum(cumulative_times, []))))\n",
    "        maxlen = max(map(len, cumulative_times))\n",
    "        # -1 marks invalid / unused\n",
    "        part_block = np.zeros((len(p.parts), maxlen)).astype(\"int32\") - 1\n",
    "        ctime_block = np.zeros((len(p.parts), maxlen)).astype(\"float32\") - 1\n",
    "        time_block = np.zeros((len(p.parts), maxlen)).astype(\"float32\") - 1\n",
    "        # create numpy array for easier indexing\n",
    "        for i in range(len(parts)):\n",
    "            part_block[i, :len(parts[i])] = parts[i]\n",
    "            ctime_block[i, :len(cumulative_times[i])] = cumulative_times[i]\n",
    "            time_block[i, :len(parts_times[i])] = parts_times[i]\n",
    "\n",
    "        event_block = np.zeros((len(p.parts), len(event_points))) - 1\n",
    "        etime_block = np.zeros((len(p.parts), len(event_points))) - 1\n",
    "        for i, e in enumerate(event_points):\n",
    "            idx = zip(*np.where(ctime_block == e))\n",
    "            for ix in idx:\n",
    "                event_block[ix[0], i] = part_block[ix[0], ix[1]]\n",
    "                etime_block[ix[0], i] = time_block[ix[0], ix[1]]\n",
    "\n",
    "        bach_name = \"_\".join(p_bach.split(os.sep)[-1].split(\".\")[:-1])\n",
    "        midi_outfile = bach_name + \".mid\"\n",
    "        write_midi(event_block, etime_block,\n",
    "                   outfile=\"midifiles/\" + midi_outfile,\n",
    "                   tempo_multiplier=1.0)\n",
    "        # Grouping\n",
    "        processed += 1\n",
    "    except AttributeError:\n",
    "        skipped += 1\n",
    "        # Edge case for Chord error? Should be flat container but some piece is different\n",
    "        continue\n",
    "\n",
    "stop = time.time()\n",
    "print(\"Total skipped count: %i\" % skipped)\n",
    "print(\"Total processed count: %i\" % processed)\n",
    "print(\"Total major: %i\" % n_major)\n",
    "print(\"Total minor: %i\" % n_minor)\n",
    "print(\"Total processing time (seconds): %f\" % (stop - start))"
   ]
  }
 ],
 "metadata": {
  "kernelspec": {
   "display_name": "Python 3",
   "language": "python",
   "name": "python3"
  },
  "language_info": {
   "codemirror_mode": {
    "name": "ipython",
    "version": 3
   },
   "file_extension": ".py",
   "mimetype": "text/x-python",
   "name": "python",
   "nbconvert_exporter": "python",
   "pygments_lexer": "ipython3",
   "version": "3.6.1"
  }
 },
 "nbformat": 4,
 "nbformat_minor": 2
}
